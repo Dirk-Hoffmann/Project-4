{
 "cells": [
  {
   "cell_type": "code",
   "execution_count": 58,
   "metadata": {},
   "outputs": [
    {
     "data": {
      "text/plain": [
       "14"
      ]
     },
     "execution_count": 58,
     "metadata": {},
     "output_type": "execute_result"
    }
   ],
   "source": [
    "from Bio import Phylo\n",
    "\n",
    "tree2 = Phylo.read(\"tree2.new\", \"newick\")\n",
    "\n",
    "tree1 = Phylo.read(\"tree1.new\", \"newick\")\n",
    "\n",
    "def append_unique(splits, out):\n",
    "    if out not in splits:\n",
    "        splits.append(out.copy())\n",
    "        #Not completely sure why, but appending out.copy, rather than just out is very important.\n",
    "        #I'm pretty sure that its because of scope.\n",
    "        #Either way, praise stack overflow\n",
    "\n",
    "def df_numbering(clade, num_dic, splits):\n",
    "    out = []\n",
    "    if clade.is_preterminal():\n",
    "        for i in clade.clades:\n",
    "            out.append(num_dic[i.name])\n",
    "        clade.name = out\n",
    "        append_unique(splits, out)\n",
    "        return out\n",
    "    elif clade.is_terminal():\n",
    "        out.append(num_dic[clade.name])\n",
    "        return out\n",
    "    else:\n",
    "        for i in clade.clades:\n",
    "            x = df_numbering(i,num_dic,splits)\n",
    "            if len(out) == 0:\n",
    "                out = x\n",
    "            elif len(out)==1:\n",
    "                if out[0] < max(x):\n",
    "                    out.append(max(x))\n",
    "                else:\n",
    "                    out = [min(x),out[0]]\n",
    "            elif len(out)==2:\n",
    "                out[0]=min([min(out),min(x)])\n",
    "                out[1]=max([max(out),max(x)])\n",
    "        append_unique(splits, out)\n",
    "        return out\n",
    "    \n",
    "    \n",
    "    \n",
    "\n",
    "\n",
    "def rfdist(tree_1, tree_2):\n",
    "    #Root both trees at same leaf\n",
    "\n",
    "    tree_1.root_with_outgroup(\"seq1\")\n",
    "    tree_2.root_with_outgroup(\"seq1\")\n",
    "\n",
    "    #Make a depth-first numbering of leaves in t1\n",
    "\n",
    "    tree_1.ladderize()\n",
    "    DFS = tree_1.get_terminals()\n",
    "\n",
    "    #rename the leaves in t2 by the DF-numbering of t1\n",
    "    t2_leaves = tree_2.get_terminals()\n",
    "\n",
    "    df_numbers = {}\n",
    "    c = 0\n",
    "    for i in DFS:\n",
    "        df_numbers[i.name]=c\n",
    "        c+=1\n",
    "\n",
    "    #names are updated in trees [name, DF numbering/interval in subtree]\n",
    "    splits_1 = []\n",
    "    splits_2=[]\n",
    "    df_numbering(tree_2.clade, df_numbers,splits_2)\n",
    "    df_numbering(tree_1.clade, df_numbers, splits_1)\n",
    "\n",
    "    shared = 0\n",
    "\n",
    "    for i in splits_1:\n",
    "        for n in splits_2:\n",
    "            if min(i) or min(n) == 0:\n",
    "                None\n",
    "            elif i == n:\n",
    "                shared += 1\n",
    "    \n",
    "\n",
    "    return len(splits_1)+len(splits_2)-2-2*shared\n",
    "\n",
    "\n",
    "rfdist(tree1, tree2)"
   ]
  }
 ],
 "metadata": {
  "interpreter": {
   "hash": "00f54d3c921eb60a34250f2a28bc33f271a04dc94262234f2e1c5862f94069c2"
  },
  "kernelspec": {
   "display_name": "Python 3.9.5 64-bit",
   "language": "python",
   "name": "python3"
  },
  "language_info": {
   "codemirror_mode": {
    "name": "ipython",
    "version": 3
   },
   "file_extension": ".py",
   "mimetype": "text/x-python",
   "name": "python",
   "nbconvert_exporter": "python",
   "pygments_lexer": "ipython3",
   "version": "3.9.5"
  },
  "orig_nbformat": 4
 },
 "nbformat": 4,
 "nbformat_minor": 2
}
